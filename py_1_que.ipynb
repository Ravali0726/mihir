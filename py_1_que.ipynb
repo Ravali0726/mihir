{
  "nbformat": 4,
  "nbformat_minor": 0,
  "metadata": {
    "colab": {
      "provenance": [],
      "authorship_tag": "ABX9TyOYTXsq10KFvEo7njnnRTkR",
      "include_colab_link": true
    },
    "kernelspec": {
      "name": "python3",
      "display_name": "Python 3"
    },
    "language_info": {
      "name": "python"
    }
  },
  "cells": [
    {
      "cell_type": "markdown",
      "metadata": {
        "id": "view-in-github",
        "colab_type": "text"
      },
      "source": [
        "<a href=\"https://colab.research.google.com/github/Ravali0726/mihir/blob/assesment/py_1_que.ipynb\" target=\"_parent\"><img src=\"https://colab.research.google.com/assets/colab-badge.svg\" alt=\"Open In Colab\"/></a>"
      ]
    },
    {
      "cell_type": "code",
      "source": [
        "from collections import Counter\n",
        "\n",
        "def find_highest_frequency_word_length(string):\n",
        "    words = string.split()\n",
        "    \n",
        "    word_counts = Counter(words)\n",
        "\n",
        "\n",
        "    max_frequency = max(word_counts.values())\n",
        "\n",
        "    max_frequency_word_length = max(len(word) for word, count in word_counts.items() if count == max_frequency)\n",
        "\n",
        "    return max_frequency_word_length\n",
        "input_string = input(\"Enter a string: \")\n",
        "result = find_highest_frequency_word_length(input_string)\n",
        "print(\"Length of the word(s) with the highest frequency:\", result)\n"
      ],
      "metadata": {
        "colab": {
          "base_uri": "https://localhost:8080/"
        },
        "id": "jDjNGfrg6qqs",
        "outputId": "776f2cc6-4991-4974-dfbc-8b7222472171"
      },
      "execution_count": null,
      "outputs": [
        {
          "output_type": "stream",
          "name": "stdout",
          "text": [
            "Enter a string: write write write all the number from from from 1 to 100\n",
            "Length of the word(s) with the highest frequency: 5\n"
          ]
        }
      ]
    }
  ]
}