{
  "metadata": {
    "kernelspec": {
      "language": "python",
      "display_name": "Python 3",
      "name": "python3"
    },
    "language_info": {
      "pygments_lexer": "ipython3",
      "nbconvert_exporter": "python",
      "version": "3.6.4",
      "file_extension": ".py",
      "codemirror_mode": {
        "name": "ipython",
        "version": 3
      },
      "name": "python",
      "mimetype": "text/x-python"
    },
    "colab": {
      "provenance": [],
      "include_colab_link": true
    }
  },
  "nbformat_minor": 0,
  "nbformat": 4,
  "cells": [
    {
      "cell_type": "markdown",
      "metadata": {
        "id": "view-in-github",
        "colab_type": "text"
      },
      "source": [
        "<a href=\"https://colab.research.google.com/github/Ravali0726/mihir/blob/main/heart_failure_prediction_eda_model_comparison.ipynb\" target=\"_parent\"><img src=\"https://colab.research.google.com/assets/colab-badge.svg\" alt=\"Open In Colab\"/></a>"
      ]
    },
    {
      "cell_type": "markdown",
      "source": [
        "# <h1 style=\"font-family: Trebuchet MS; padding: 20px; font-size: 40px; color: #FFFFFF; text-align: center; line-height: 0.55;background-color: #FE251B\"><b>Heart Failure Prediction</b><br></h1>"
      ],
      "metadata": {
        "id": "R559qbpja4l7"
      }
    },
    {
      "cell_type": "markdown",
      "source": [
        "<center>\n",
        "    <img src=\"https://cdn.dribbble.com/users/4506667/screenshots/14492641/heart_disease_prediction_logo2_.png\" alt=\"Heart Failure Prediction\" width=\"50%\">\n",
        "</center>\n",
        "\n",
        "### Problem Statement :\n",
        "\n",
        "Heart Failure is a condition when the heart muscle does not pump blood as well as it should to meet the body's demands. Blood is the most important fluid that circulates throughout the body by supplying oxygen to all the parts of the body. Cardiovascular diseases (CVDs) are the number 1 cause of death globally, taking an estimated 17.9 million lives each year, which accounts for 31% of all deaths worlwide. This constant threat of cardiovascular issues has been rising due to the poor lifestyle choices alongwith an ignorant attitude towards health. With majority of the people struggling with mental problems, habits like tobacco use, unhealthy diet and obesity, physical inactivity and harmful use of alcohol have been taken up by the mass population. Thus, people that are at a high cardiovascular risk need early detection and management wherein a machine learning model can be of great help!  \n",
        "\n",
        "### Aim :\n",
        "- To classify / predict whether a patient can encounter a death situation due to heart failure.\n",
        "- It is a **binary classification** problem with multiple numerical and categorical features."
      ],
      "metadata": {
        "id": "_sJVWdjQa4l_"
      }
    },
    {
      "cell_type": "markdown",
      "source": [
        "### <center>Dataset Attributes</center>\n",
        "    \n",
        "- **Age** : age [years]\n",
        "\n",
        "- **anaemia** : Decrease of red blood cells or hemoglobin (boolean)\n",
        "\n",
        "- **creatinine_phosphokinase** : Level of the CPK enzyme in the blood (mcg/L)\n",
        "\n",
        "- **diabetes** : If the patient has diabetes (boolean)\n",
        "\n",
        "- **ejection_fraction** : Percentage of blood leaving the heart at each contraction (percentage)\n",
        "\n",
        "- **high_blood_pressure** : If the patient has hypertension (boolean)\n",
        "\n",
        "- **platelets** : Platelets in the blood (kiloplatelets/mL)\n",
        "\n",
        "- **serum_creatinine** : Level of serum creatinine in the blood (mg/dL)\n",
        "\n",
        "- **serum_sodium** : Level of serum sodium in the blood (mEq/L)\n",
        "\n",
        "- **sex** : Woman or man (binary)\n",
        "\n",
        "- **smoking** : If the patient smokes or not (boolean)\n",
        "\n",
        "- **time** : Follow-up period (days)\n",
        "\n",
        "- **DEATH_EVENT** : If the patient deceased during the follow-up period (boolean)"
      ],
      "metadata": {
        "id": "WQZksD7Ka4mA"
      }
    },
    {
      "cell_type": "markdown",
      "source": [
        "### Notebook Contents :\n",
        "- Dataset Information\n",
        "- Exploratory Data Analysis (EDA)\n",
        "- Summary of EDA & Comparison with Domain Information\n",
        "- Feature Engineering (Data Balancing)\n",
        "- Modeling\n",
        "- Conclusion\n",
        "\n",
        "### What you will learn :\n",
        "- Data Visualization\n",
        "- Data Balancing using SMOTE\n",
        "- Statistical Tests for Feature Selection\n",
        "- Modeling and visualization of results for algorithms\n",
        "\n",
        "### Related Work :\n",
        "\n",
        "- [Binary Classification](https://www.kaggle.com/competitions/titanic/discussion/352223) **: It is a discussion post that describes the approach required to deal with Binary Classification problems explained through notebooks that contain work done on datasets with easy and understandable code explanation!**\n",
        "- [Time Series Analysis](https://www.kaggle.com/competitions/store-sales-time-series-forecasting/discussion/352205) **: It is a discussion post that describes the basics of Time Series Analysis explained through notebooks that contain work done on datasets with easy and understandable code explanation!**\n",
        "- [Unsupervised Learning](https://www.kaggle.com/code/tanmay111999/mall-customer-segmentation-k-means-eda) **:It is a notebook that describes the work on Unsupervised Learning problem using K-Means clustering algorithm!**\n",
        "\n",
        "### Lets get started!"
      ],
      "metadata": {
        "id": "-9j3naMxa4mB"
      }
    },
    {
      "cell_type": "markdown",
      "source": [
        "# <center><div style=\"font-family: Trebuchet MS; background-color: #FE251B; color: #FFFFFF; padding: 12px; line-height: 1;\">Dataset Information</div></center>"
      ],
      "metadata": {
        "id": "lzk_M8GIa4mB"
      }
    },
    {
      "cell_type": "markdown",
      "source": [
        "### Import the Necessary Libraries :"
      ],
      "metadata": {
        "id": "RyBhPCTha4mC"
      }
    },
    {
      "cell_type": "code",
      "source": [
        "import pandas as pd\n",
        "import numpy as np\n",
        "import matplotlib.pyplot as plt\n",
        "%matplotlib inline\n",
        "import seaborn as sns\n",
        "pd.options.display.float_format = '{:.2f}'.format\n",
        "import warnings\n",
        "warnings.filterwarnings('ignore')"
      ],
      "metadata": {
        "execution": {
          "iopub.status.busy": "2022-10-15T10:05:16.110339Z",
          "iopub.execute_input": "2022-10-15T10:05:16.111235Z",
          "iopub.status.idle": "2022-10-15T10:05:17.464576Z",
          "shell.execute_reply.started": "2022-10-15T10:05:16.111044Z",
          "shell.execute_reply": "2022-10-15T10:05:17.463358Z"
        },
        "trusted": true,
        "id": "8sJRgV_Qa4mD"
      },
      "execution_count": null,
      "outputs": []
    },
    {
      "cell_type": "code",
      "source": [
        "data = pd.read_csv('../input/heart-failure-clinical-data/heart_failure_clinical_records_dataset.csv')\n",
        "data.head()"
      ],
      "metadata": {
        "scrolled": true,
        "execution": {
          "iopub.status.busy": "2022-10-15T10:05:17.46648Z",
          "iopub.execute_input": "2022-10-15T10:05:17.467502Z",
          "iopub.status.idle": "2022-10-15T10:05:17.513326Z",
          "shell.execute_reply.started": "2022-10-15T10:05:17.467459Z",
          "shell.execute_reply": "2022-10-15T10:05:17.511878Z"
        },
        "trusted": true,
        "id": "nyhIyBnJa4mE"
      },
      "execution_count": null,
      "outputs": []
    },
    {
      "cell_type": "markdown",
      "source": [
        "### Data Info :"
      ],
      "metadata": {
        "id": "YZTUhlxQa4mF"
      }
    },
    {
      "cell_type": "code",
      "source": [
        "data.shape"
      ],
      "metadata": {
        "execution": {
          "iopub.status.busy": "2022-10-15T10:05:17.514896Z",
          "iopub.execute_input": "2022-10-15T10:05:17.515784Z",
          "iopub.status.idle": "2022-10-15T10:05:17.524712Z",
          "shell.execute_reply.started": "2022-10-15T10:05:17.515735Z",
          "shell.execute_reply": "2022-10-15T10:05:17.523307Z"
        },
        "trusted": true,
        "id": "f5UnKdu4a4mG"
      },
      "execution_count": null,
      "outputs": []
    },
    {
      "cell_type": "code",
      "source": [
        "data.columns"
      ],
      "metadata": {
        "execution": {
          "iopub.status.busy": "2022-10-15T10:05:17.52737Z",
          "iopub.execute_input": "2022-10-15T10:05:17.528391Z",
          "iopub.status.idle": "2022-10-15T10:05:17.539421Z",
          "shell.execute_reply.started": "2022-10-15T10:05:17.528348Z",
          "shell.execute_reply": "2022-10-15T10:05:17.538172Z"
        },
        "trusted": true,
        "id": "ZbrrCoq9a4mG"
      },
      "execution_count": null,
      "outputs": []
    },
    {
      "cell_type": "code",
      "source": [
        "data.info()"
      ],
      "metadata": {
        "execution": {
          "iopub.status.busy": "2022-10-15T10:05:17.541082Z",
          "iopub.execute_input": "2022-10-15T10:05:17.541521Z",
          "iopub.status.idle": "2022-10-15T10:05:17.575324Z",
          "shell.execute_reply.started": "2022-10-15T10:05:17.541484Z",
          "shell.execute_reply": "2022-10-15T10:05:17.57434Z"
        },
        "trusted": true,
        "id": "3PW4ZBlDa4mG"
      },
      "execution_count": null,
      "outputs": []
    },
    {
      "cell_type": "code",
      "source": [
        "sns.heatmap(data.isnull(),cmap = 'magma',cbar = False);"
      ],
      "metadata": {
        "execution": {
          "iopub.status.busy": "2022-10-15T10:05:17.576277Z",
          "iopub.execute_input": "2022-10-15T10:05:17.576591Z",
          "iopub.status.idle": "2022-10-15T10:05:17.95273Z",
          "shell.execute_reply.started": "2022-10-15T10:05:17.576562Z",
          "shell.execute_reply": "2022-10-15T10:05:17.951365Z"
        },
        "trusted": true,
        "id": "2EKT0-Uwa4mH"
      },
      "execution_count": null,
      "outputs": []
    },
    {
      "cell_type": "markdown",
      "source": [
        "- **No null values** present in the data!"
      ],
      "metadata": {
        "id": "qVxbtzkCa4mH"
      }
    },
    {
      "cell_type": "code",
      "source": [
        "data.describe().T"
      ],
      "metadata": {
        "execution": {
          "iopub.status.busy": "2022-10-15T10:05:17.954408Z",
          "iopub.execute_input": "2022-10-15T10:05:17.954828Z",
          "iopub.status.idle": "2022-10-15T10:05:18.008837Z",
          "shell.execute_reply.started": "2022-10-15T10:05:17.954792Z",
          "shell.execute_reply": "2022-10-15T10:05:18.007328Z"
        },
        "trusted": true,
        "id": "neyxYjU-a4mH"
      },
      "execution_count": null,
      "outputs": []
    },
    {
      "cell_type": "code",
      "source": [
        "yes = data[data['DEATH_EVENT'] == 1].describe().T\n",
        "no = data[data['DEATH_EVENT'] == 0].describe().T\n",
        "\n",
        "colors = ['#FE251B','#FFFFFF']\n",
        "\n",
        "fig,ax = plt.subplots(nrows = 1,ncols = 2,figsize = (5,5),)\n",
        "plt.subplot(1,2,1)\n",
        "sns.heatmap(yes[['mean']],annot = True,cmap = colors,linewidths = 0.4,linecolor = 'black',cbar = False,fmt = '.2f')\n",
        "plt.title('Death Event Occurred');\n",
        "\n",
        "plt.subplot(1,2,2)\n",
        "sns.heatmap(no[['mean']],annot = True,cmap = colors,linewidths = 0.4,linecolor = 'black',cbar = False,fmt = '.2f')\n",
        "plt.title('No Death Event Occurred');\n",
        "\n",
        "fig.tight_layout(pad = -3)"
      ],
      "metadata": {
        "execution": {
          "iopub.status.busy": "2022-10-15T10:05:18.010496Z",
          "iopub.execute_input": "2022-10-15T10:05:18.010835Z",
          "iopub.status.idle": "2022-10-15T10:05:18.575543Z",
          "shell.execute_reply.started": "2022-10-15T10:05:18.010805Z",
          "shell.execute_reply": "2022-10-15T10:05:18.574101Z"
        },
        "trusted": true,
        "id": "4GTsaQ2ga4mI"
      },
      "execution_count": null,
      "outputs": []
    },
    {
      "cell_type": "markdown",
      "source": [
        "- **Mean** values of all the features for cases of **DEATH_EVENT** and **No DEATH_EVENT**."
      ],
      "metadata": {
        "id": "HDqBze4va4mI"
      }
    },
    {
      "cell_type": "markdown",
      "source": [
        "# <center><div style=\"font-family: Trebuchet MS; background-color: #FE251B; color: #FFFFFF; padding: 12px; line-height: 1;\">Exploratory Data Analysis</div></center>"
      ],
      "metadata": {
        "id": "wacupRGDa4mI"
      }
    },
    {
      "cell_type": "markdown",
      "source": [
        "### Dividing features into Numerical and Categorical :"
      ],
      "metadata": {
        "id": "PCrn2XPSa4mJ"
      }
    },
    {
      "cell_type": "code",
      "source": [
        "col = list(data.columns)\n",
        "categorical_features = []\n",
        "numerical_features = []\n",
        "for i in col:\n",
        "    if len(data[i].unique()) > 6:\n",
        "        numerical_features.append(i)\n",
        "    else:\n",
        "        categorical_features.append(i)\n",
        "\n",
        "print('Categorical Features :',*categorical_features)\n",
        "print('Numerical Features :',*numerical_features)"
      ],
      "metadata": {
        "execution": {
          "iopub.status.busy": "2022-10-15T10:05:18.577234Z",
          "iopub.execute_input": "2022-10-15T10:05:18.577728Z",
          "iopub.status.idle": "2022-10-15T10:05:18.592757Z",
          "shell.execute_reply.started": "2022-10-15T10:05:18.577683Z",
          "shell.execute_reply": "2022-10-15T10:05:18.591386Z"
        },
        "trusted": true,
        "id": "zETQsRdka4mJ"
      },
      "execution_count": null,
      "outputs": []
    },
    {
      "cell_type": "markdown",
      "source": [
        "- Here, categorical features are defined if the the attribute has less than 6 unique elements else it is a numerical feature.\n",
        "- Typical approach for this division of features can also be based on the datatypes of the elements of the respective attribute."
      ],
      "metadata": {
        "id": "BZeY_pTia4mJ"
      }
    },
    {
      "cell_type": "code",
      "source": [
        "data['age'] = data['age'].astype(int)\n",
        "data['platelets'] = data['platelets'].astype(int)\n",
        "df1 = data.copy(deep = True)"
      ],
      "metadata": {
        "execution": {
          "iopub.status.busy": "2022-10-15T10:05:18.598354Z",
          "iopub.execute_input": "2022-10-15T10:05:18.599313Z",
          "iopub.status.idle": "2022-10-15T10:05:18.608258Z",
          "shell.execute_reply.started": "2022-10-15T10:05:18.599268Z",
          "shell.execute_reply": "2022-10-15T10:05:18.606971Z"
        },
        "trusted": true,
        "id": "UAJh5mqxa4mJ"
      },
      "execution_count": null,
      "outputs": []
    },
    {
      "cell_type": "markdown",
      "source": [
        "- Converting the datatypes of **age** and **platelets** features from float to integer.\n",
        "- Creating a deep copy of the orginal dataset for experimenting with data, visualization and modeling.\n",
        "- Modifications in the original dataset will not be highlighted in this deep copy."
      ],
      "metadata": {
        "id": "3-o1ImSAa4mJ"
      }
    },
    {
      "cell_type": "markdown",
      "source": [
        "### Categorical Features :\n",
        "\n",
        "#### Distribution of Categorical Features :"
      ],
      "metadata": {
        "id": "J7KFwWmPa4mK"
      }
    },
    {
      "cell_type": "code",
      "source": [
        "fig, ax = plt.subplots(nrows = 3,ncols = 2,figsize = (10,15))\n",
        "for i in range(len(categorical_features)):\n",
        "\n",
        "    plt.subplot(3,2,i+1)\n",
        "    sns.distplot(df1[categorical_features[i]],kde_kws = {'bw' : 1},color = colors[0]);\n",
        "    title = 'Distribution : ' + categorical_features[i]\n",
        "    plt.title(title)"
      ],
      "metadata": {
        "execution": {
          "iopub.status.busy": "2022-10-15T10:05:18.609791Z",
          "iopub.execute_input": "2022-10-15T10:05:18.610244Z",
          "iopub.status.idle": "2022-10-15T10:05:19.368634Z",
          "shell.execute_reply.started": "2022-10-15T10:05:18.610211Z",
          "shell.execute_reply": "2022-10-15T10:05:19.367316Z"
        },
        "trusted": true,
        "id": "iOv2TMisa4mK"
      },
      "execution_count": null,
      "outputs": []
    },
    {
      "cell_type": "markdown",
      "source": [
        "- All the categorical features are **Normally Distributed**."
      ],
      "metadata": {
        "id": "G5QEFS4Ka4mK"
      }
    },
    {
      "cell_type": "markdown",
      "source": [
        "### Numerical Features :\n",
        "\n",
        "#### Distribution of Numerical Features :"
      ],
      "metadata": {
        "id": "MQGI4kwwa4mK"
      }
    },
    {
      "cell_type": "code",
      "source": [
        "fig, ax = plt.subplots(nrows = 3,ncols = 2,figsize = (10,15))\n",
        "for i in range(len(numerical_features) - 1):\n",
        "    plt.subplot(3,2,i+1)\n",
        "    sns.distplot(data[numerical_features[i]],color = colors[0])\n",
        "    title = 'Distribution : ' + numerical_features[i]\n",
        "    plt.title(title)\n",
        "plt.show()\n",
        "\n",
        "plt.figure(figsize = (4.75,4.55))\n",
        "sns.distplot(df1[numerical_features[len(numerical_features) - 1]],kde_kws = {'bw' : 1},color = colors[0])\n",
        "title = 'Distribution : ' + numerical_features[len(numerical_features) - 1]\n",
        "plt.title(title);"
      ],
      "metadata": {
        "execution": {
          "iopub.status.busy": "2022-10-15T10:05:19.370107Z",
          "iopub.execute_input": "2022-10-15T10:05:19.370498Z",
          "iopub.status.idle": "2022-10-15T10:05:20.962514Z",
          "shell.execute_reply.started": "2022-10-15T10:05:19.370467Z",
          "shell.execute_reply": "2022-10-15T10:05:20.961192Z"
        },
        "trusted": true,
        "id": "Z-cc823ma4mL"
      },
      "execution_count": null,
      "outputs": []
    },
    {
      "cell_type": "markdown",
      "source": [
        "- **Age**,**Creatinine_Phosphokinase**,**Ejaction_Fraction** and **Serum_creatinine** have a **rightly** or **positively skewed** data distribution.\n",
        "- **Platelets** and **Serum_Sodium** are near about **normally distributed**.\n",
        "- **Time's** data distribution is similar to a typical **Time Series Analysis** graph with irregularities present in it."
      ],
      "metadata": {
        "id": "K0P_ZgjMa4mL"
      }
    },
    {
      "cell_type": "markdown",
      "source": [
        "### Target Variable Visualization (DEATH_EVENT) :"
      ],
      "metadata": {
        "id": "UhyDe0FIa4mL"
      }
    },
    {
      "cell_type": "code",
      "source": [
        "l = list(data['DEATH_EVENT'].value_counts())\n",
        "circle = [l[0] / sum(l) * 100,l[1] / sum(l) * 100]\n",
        "\n",
        "fig = plt.subplots(nrows = 1,ncols = 2,figsize = (20,5))\n",
        "plt.subplot(1,2,1)\n",
        "plt.pie(circle,labels = ['No Death Event Occurred','Death Event Occurred'],autopct='%1.1f%%',startangle = 90,explode = (0.1,0),colors = colors,\n",
        "       wedgeprops = {'edgecolor' : 'black','linewidth': 1,'antialiased' : True})\n",
        "plt.title('Death Events Due to Heart Disease %');\n",
        "\n",
        "plt.subplot(1,2,2)\n",
        "ax = sns.countplot('DEATH_EVENT',data = data, palette = colors,edgecolor = 'black')\n",
        "for rect in ax.patches:\n",
        "    ax.text(rect.get_x() + rect.get_width() / 2, rect.get_height() + 2, rect.get_height(), horizontalalignment='center', fontsize = 11)\n",
        "ax.set_xticklabels(['No Death Event','Death Event'])\n",
        "plt.title('Cases of Death Events Due to Heart Disease');\n",
        "plt.show()"
      ],
      "metadata": {
        "execution": {
          "iopub.status.busy": "2022-10-15T10:05:20.96406Z",
          "iopub.execute_input": "2022-10-15T10:05:20.964948Z",
          "iopub.status.idle": "2022-10-15T10:05:21.26564Z",
          "shell.execute_reply.started": "2022-10-15T10:05:20.964913Z",
          "shell.execute_reply": "2022-10-15T10:05:21.264459Z"
        },
        "trusted": true,
        "id": "ioHQHQb1a4mL"
      },
      "execution_count": null,
      "outputs": []
    },
    {
      "cell_type": "markdown",
      "source": [
        "- The dataset is **unbalanced** with very low data points (299)!\n",
        "- **2 : 1** ratio for **No Death Event cases : Death Event cases!**\n",
        "- Due to this, predictions will be biased towards **No Death Event** cases.\n",
        "- Visualizations will also display this bias, thus making it difficult to gain insight."
      ],
      "metadata": {
        "id": "TLIujKHPa4mL"
      }
    },
    {
      "cell_type": "markdown",
      "source": [
        "### Categorical Features vs Target Variable (DEATH_EVENT) :"
      ],
      "metadata": {
        "id": "nclS2zLMa4mM"
      }
    },
    {
      "cell_type": "code",
      "source": [
        "fig = plt.subplots(nrows = 2,ncols = 2,figsize = (10,9.75))\n",
        "for i in range(len(categorical_features) - 2):\n",
        "    plt.subplot(2,2,i+1)\n",
        "    ax = sns.countplot(categorical_features[i],data = data,hue = \"DEATH_EVENT\",palette = colors,edgecolor = 'black')\n",
        "    for rect in ax.patches:\n",
        "        ax.text(rect.get_x() + rect.get_width() / 2, rect.get_height() + 2, rect.get_height(), horizontalalignment='center', fontsize = 11)\n",
        "    ax.set_xticklabels(['No Death Event','Death Event'])\n",
        "    title = categorical_features[i] + ' vs DEATH_EVENT'\n",
        "    plt.title(title);\n",
        "\n",
        "plt.figure(figsize = (4.75,4.55))\n",
        "ax = sns.countplot(categorical_features[-2],data = data,hue = \"DEATH_EVENT\",palette = colors,edgecolor = 'black')\n",
        "for rect in ax.patches:\n",
        "    ax.text(rect.get_x() + rect.get_width() / 2, rect.get_height() + 2, rect.get_height(), horizontalalignment='center', fontsize = 11)\n",
        "ax.set_xticklabels(['No Death Event','Death Event'])\n",
        "title = categorical_features[-2] + ' vs DEATH_EVENT'\n",
        "plt.title(title);"
      ],
      "metadata": {
        "execution": {
          "iopub.status.busy": "2022-10-15T10:05:21.267225Z",
          "iopub.execute_input": "2022-10-15T10:05:21.268544Z",
          "iopub.status.idle": "2022-10-15T10:05:22.100451Z",
          "shell.execute_reply.started": "2022-10-15T10:05:21.2685Z",
          "shell.execute_reply": "2022-10-15T10:05:22.099218Z"
        },
        "trusted": true,
        "id": "-9nltqKxa4mM"
      },
      "execution_count": null,
      "outputs": []
    },
    {
      "cell_type": "markdown",
      "source": [
        "- All the graphs near about share the same pattern.\n",
        "- According to the graphs, patients with negative cases of **anaemia**, **diabetes**, **high_blood_pressure** and **smoking**  leads to **DEATH_EVENT** more than the positive cases of these medical conditions.\n",
        "- There are more cases cases of **male** population confronting a **DEATH_EVENT** due to heart failure than **female** population."
      ],
      "metadata": {
        "id": "jjgM6swfa4mM"
      }
    },
    {
      "cell_type": "markdown",
      "source": [
        "### Categorical Features vs Cases of DEATH_EVENT :"
      ],
      "metadata": {
        "id": "JOcsV9z6a4mM"
      }
    },
    {
      "cell_type": "code",
      "source": [
        "anaemia = data[data['DEATH_EVENT'] == 1]['anaemia'].value_counts()\n",
        "anaemia = [anaemia[0] / sum(anaemia) * 100, anaemia[1] / sum(anaemia) * 100]\n",
        "\n",
        "diabetes = data[data['DEATH_EVENT'] == 1]['diabetes'].value_counts()\n",
        "diabetes = [diabetes[0] / sum(diabetes) * 100,diabetes[1] / sum(diabetes) * 100]\n",
        "\n",
        "hbp = data[data['DEATH_EVENT'] == 1]['high_blood_pressure'].value_counts()\n",
        "hbp = [hbp[0] / sum(hbp) * 100,hbp[1] / sum(hbp) * 100]\n",
        "\n",
        "sex = data[data['DEATH_EVENT'] == 1]['sex'].value_counts()\n",
        "sex = [sex[0] / sum(sex) * 100,sex[1] / sum(sex) * 100]\n",
        "\n",
        "smoke = data[data['DEATH_EVENT'] == 1]['smoking'].value_counts()\n",
        "smoke = [smoke[0] / sum(smoke) * 100,smoke[1] / sum(smoke) * 100]"
      ],
      "metadata": {
        "execution": {
          "iopub.status.busy": "2022-10-15T10:05:22.102102Z",
          "iopub.execute_input": "2022-10-15T10:05:22.103429Z",
          "iopub.status.idle": "2022-10-15T10:05:22.120755Z",
          "shell.execute_reply.started": "2022-10-15T10:05:22.103376Z",
          "shell.execute_reply": "2022-10-15T10:05:22.119709Z"
        },
        "trusted": true,
        "id": "Yc58uveLa4mM"
      },
      "execution_count": null,
      "outputs": []
    },
    {
      "cell_type": "code",
      "source": [
        "ax,fig = plt.subplots(nrows = 1,ncols = 3,figsize = (15,15))\n",
        "\n",
        "plt.subplot(1,3,1)\n",
        "plt.pie(anaemia,labels = ['No Anaemia','Anaemia'],autopct='%1.1f%%',startangle = 90,explode = (0.1,0),colors = colors,\n",
        "       wedgeprops = {'edgecolor' : 'black','linewidth': 1,'antialiased' : True})\n",
        "plt.title('Anaemia');\n",
        "\n",
        "plt.subplot(1,3,2)\n",
        "plt.pie(diabetes,labels = ['No Diabetes', 'Diabetes'],autopct='%1.1f%%',startangle = 90,explode = (0,0.1),colors = colors,\n",
        "       wedgeprops = {'edgecolor' : 'black','linewidth': 1,'antialiased' : True})\n",
        "plt.title('Diabetes');\n",
        "\n",
        "plt.subplot(1,3,3)\n",
        "plt.pie(hbp,labels = ['No High Blood Pressure','High Blood Pressure'],autopct='%1.1f%%',startangle = 90,explode = (0.1,0),colors = colors,\n",
        "       wedgeprops = {'edgecolor' : 'black','linewidth': 1,'antialiased' : True})\n",
        "plt.title('High Blood Pressure');\n",
        "\n",
        "ax,fig = plt.subplots(nrows = 1,ncols = 2,figsize = (10,10))\n",
        "plt.subplot(1,2,1)\n",
        "plt.pie(sex,labels = ['Female','Male'],autopct='%1.1f%%',startangle = 90,explode = (0,0.1),colors = colors,\n",
        "       wedgeprops = {'edgecolor' : 'black','linewidth': 1,'antialiased' : True})\n",
        "plt.title('Sex');\n",
        "\n",
        "plt.subplot(1,2,2)\n",
        "plt.pie(smoke,labels = ['No Smoking','Smoking'],autopct='%1.1f%%',startangle = 90,explode = (0.1,0),colors = colors,\n",
        "        wedgeprops = {'edgecolor' : 'black','linewidth': 1,'antialiased' : True})\n",
        "plt.title('Smoking');"
      ],
      "metadata": {
        "execution": {
          "iopub.status.busy": "2022-10-15T10:05:22.122309Z",
          "iopub.execute_input": "2022-10-15T10:05:22.123519Z",
          "iopub.status.idle": "2022-10-15T10:05:22.575151Z",
          "shell.execute_reply.started": "2022-10-15T10:05:22.123471Z",
          "shell.execute_reply": "2022-10-15T10:05:22.5739Z"
        },
        "trusted": true,
        "id": "yX0sraMja4mN"
      },
      "execution_count": null,
      "outputs": []
    },
    {
      "cell_type": "markdown",
      "source": [
        "- These piecharts support the case for more **DEATH_EVENT** due to negative cases of **anaemia**, **diabetes**, **high_blood_pressure** and **smoking** than their positive counterparts.\n",
        "- Out of the total cases of heart failure leading to **DEATH_EVENT**, **males** are more prone to it than **females**."
      ],
      "metadata": {
        "id": "f50cZEHxa4mN"
      }
    },
    {
      "cell_type": "markdown",
      "source": [
        "### Numerical Features vs Target Variable (DEATH_EVENT) :"
      ],
      "metadata": {
        "id": "3OzkH-TNa4mO"
      }
    },
    {
      "cell_type": "code",
      "source": [
        "fig, ax = plt.subplots(nrows = 7,ncols = 1,figsize = (15,35),squeeze = False)\n",
        "for i in range(len(numerical_features)):\n",
        "    plt.subplot(7,1,i+1)\n",
        "    sns.countplot(numerical_features[i],data = data,hue = \"DEATH_EVENT\",palette = colors,edgecolor = 'black')\n",
        "    title = numerical_features[i] + ' vs DEATH EVENT'\n",
        "    plt.title(title);"
      ],
      "metadata": {
        "execution": {
          "iopub.status.busy": "2022-10-15T10:05:22.576994Z",
          "iopub.execute_input": "2022-10-15T10:05:22.577695Z",
          "iopub.status.idle": "2022-10-15T10:05:32.511674Z",
          "shell.execute_reply.started": "2022-10-15T10:05:22.577649Z",
          "shell.execute_reply": "2022-10-15T10:05:32.510502Z"
        },
        "trusted": true,
        "id": "8ob3B3x0a4mP"
      },
      "execution_count": null,
      "outputs": []
    },
    {
      "cell_type": "markdown",
      "source": [
        "- Cases of **DEATH_EVENT** initiate from the age of **45**. Some specific peaks of high cases of **DEATH_EVENT** can be observed at 45, 50, 60, 65, 70, 75 and 80.\n",
        "- High cases of **DEATH_EVENT** can be observed for **ejaction_fraction** values from **20 - 60**.\n",
        "- **serum_creatinine** values from **0.6** to **3.0** have higher probability to lead to **DEATH_EVENT**.\n",
        "- **serum_sodium** values **127 - 145** indicate towards a **DEATH_EVENT** due to heart failure."
      ],
      "metadata": {
        "id": "d3hXVRVGa4mP"
      }
    },
    {
      "cell_type": "markdown",
      "source": [
        "- Because of too many unique data points in the **creatinine_phosphokinase**, **platelets** and **time** features, it is difficult to gain any type of insight. Thus, we will convert these features into categorical features for visualizations.\n",
        "- We scale the data points of these features to a constant value that represents a range of values.(like mean)\n",
        "- Here, we divide the data points constant value and assign its quotient value as the representative constant for that data point. The scaling constants are decided by looking into the data & intuition."
      ],
      "metadata": {
        "id": "r44YjP1ea4mP"
      }
    },
    {
      "cell_type": "code",
      "source": [
        "data['creatinine_phosphokinase_Group'] = [ int(i / 100) for i in data['creatinine_phosphokinase']]\n",
        "data['platelets_Group'] = [ int(i / 10**5) for i in data['platelets']]\n",
        "data['time_Group'] = [ int(i / 5) for i in data['time']]"
      ],
      "metadata": {
        "execution": {
          "iopub.status.busy": "2022-10-15T10:05:32.513394Z",
          "iopub.execute_input": "2022-10-15T10:05:32.514989Z",
          "iopub.status.idle": "2022-10-15T10:05:32.526316Z",
          "shell.execute_reply.started": "2022-10-15T10:05:32.514925Z",
          "shell.execute_reply": "2022-10-15T10:05:32.52503Z"
        },
        "trusted": true,
        "id": "v6x6LY1ya4mP"
      },
      "execution_count": null,
      "outputs": []
    },
    {
      "cell_type": "code",
      "source": [
        "fig, ax = plt.subplots(nrows = 3,ncols = 1,figsize = (17,17))\n",
        "group_numerical_features = [i + '_Group' for i in ['creatinine_phosphokinase','platelets','time']]\n",
        "\n",
        "for i in range(len(group_numerical_features)):\n",
        "    plt.subplot(3,1,i+1)\n",
        "    sns.countplot(group_numerical_features[i],data = data,hue = \"DEATH_EVENT\",palette = colors,edgecolor = 'black')\n",
        "    title = group_numerical_features[i] + ' vs DEATH_EVENT'\n",
        "    plt.title(title);"
      ],
      "metadata": {
        "execution": {
          "iopub.status.busy": "2022-10-15T10:05:32.52802Z",
          "iopub.execute_input": "2022-10-15T10:05:32.528392Z",
          "iopub.status.idle": "2022-10-15T10:05:34.033006Z",
          "shell.execute_reply.started": "2022-10-15T10:05:32.52836Z",
          "shell.execute_reply": "2022-10-15T10:05:34.031796Z"
        },
        "trusted": true,
        "id": "8ff537Oia4mQ"
      },
      "execution_count": null,
      "outputs": []
    },
    {
      "cell_type": "markdown",
      "source": [
        "- **DEATH_EVENT** cases are on a high for the values between **0**(0x100) - **500**(5x100) for **creatinine_phosphokinase**.   \n",
        "- **platelets** values between **0**(0x10^5) - **400,000**(4x10^5) are prone to heart failures leading to **DEATH_EVENT**.\n",
        "- For the **time** feature, values from **0**(0x5) - **170**(34x5) have higher probability to lead to a **DEATH_EVENT**."
      ],
      "metadata": {
        "id": "D-f9MU_1a4mQ"
      }
    },
    {
      "cell_type": "markdown",
      "source": [
        "### Categorical features vs Numerical features w.r.t Target variable(DEATH_EVENT) :"
      ],
      "metadata": {
        "id": "FZBVX9Wea4mQ"
      }
    },
    {
      "cell_type": "markdown",
      "source": [
        "#### anaemia vs Numerical Features :"
      ],
      "metadata": {
        "id": "Ga7YQJEga4mQ"
      }
    },
    {
      "cell_type": "code",
      "source": [
        "fig = plt.subplots(nrows = 2,ncols = 2,figsize = (15,10))\n",
        "for i in range(4):\n",
        "    plt.subplot(2,2,i+1)\n",
        "    sns.boxplot(x = 'anaemia',y = numerical_features[i],data = data,hue = 'DEATH_EVENT',palette = colors);\n",
        "    title = numerical_features[i] + ' vs anaemia'\n",
        "    plt.title(title);\n",
        "\n",
        "fig = plt.subplots(nrows = 1,ncols = 3,figsize = (15,5))\n",
        "for i in range(-1,-4,-1):\n",
        "    plt.subplot(1,3,-i)\n",
        "    sns.boxplot(x = 'anaemia',y = numerical_features[i],data = data,hue = 'DEATH_EVENT',palette = colors);\n",
        "    title = numerical_features[i] + ' vs anaemia'\n",
        "    plt.title(title);"
      ],
      "metadata": {
        "execution": {
          "iopub.status.busy": "2022-10-15T10:05:34.03462Z",
          "iopub.execute_input": "2022-10-15T10:05:34.035088Z",
          "iopub.status.idle": "2022-10-15T10:05:35.763899Z",
          "shell.execute_reply.started": "2022-10-15T10:05:34.035044Z",
          "shell.execute_reply": "2022-10-15T10:05:35.762745Z"
        },
        "trusted": true,
        "id": "O_ZSMHIwa4mR"
      },
      "execution_count": null,
      "outputs": []
    },
    {
      "cell_type": "markdown",
      "source": [
        "- Irrespective of **anaemia**, **age** group of **55 - 75** and **ejaction_fraction** values of **20 - 40** are prone to **DEATH_EVENT**.\n",
        "- Similarly, **serum_creatinine** levels between **1 - 2** and **serum_sodium** levels of **130 - 140** display a higher chance of confronting a **DEATH_EVENT**."
      ],
      "metadata": {
        "id": "xZ_xrLq2a4mR"
      }
    },
    {
      "cell_type": "markdown",
      "source": [
        "#### diabetes vs Numerical Features :"
      ],
      "metadata": {
        "id": "FlDXTSTDa4mR"
      }
    },
    {
      "cell_type": "code",
      "source": [
        "fig,ax = plt.subplots(nrows = 2,ncols = 2,figsize = (15,10))\n",
        "for i in range(4):\n",
        "    plt.subplot(2,2,i+1)\n",
        "    sns.boxplot(x = 'diabetes',y = numerical_features[i],data = data,hue = 'DEATH_EVENT',palette = colors);\n",
        "    title = numerical_features[i] + ' vs diabetes'\n",
        "    plt.title(title);\n",
        "\n",
        "fig,ax = plt.subplots(nrows = 1,ncols = 3,figsize = (15,5))\n",
        "for i in range(-1,-4,-1):\n",
        "    plt.subplot(1,3,-i)\n",
        "    sns.boxplot(x = 'diabetes',y = numerical_features[i],data = data,hue = 'DEATH_EVENT',palette = colors);\n",
        "    title = numerical_features[i] + ' vs diabetes'\n",
        "    plt.title(title);"
      ],
      "metadata": {
        "execution": {
          "iopub.status.busy": "2022-10-15T10:05:35.765518Z",
          "iopub.execute_input": "2022-10-15T10:05:35.765985Z",
          "iopub.status.idle": "2022-10-15T10:05:37.271401Z",
          "shell.execute_reply.started": "2022-10-15T10:05:35.765937Z",
          "shell.execute_reply": "2022-10-15T10:05:37.270193Z"
        },
        "trusted": true,
        "id": "XLrd-emna4mR"
      },
      "execution_count": null,
      "outputs": []
    },
    {
      "cell_type": "markdown",
      "source": [
        "- For **creatinine_phosphokinase**, values from **0 - 500** and **platelets** range from **2x10^5 - 3x10^5** detect more cases of heart failure.\n",
        "- Similarly, **serum_creatinine** levels between **1 - 2** and **time** feature's values from **0 - 100** highlight more heart failure cases."
      ],
      "metadata": {
        "id": "sYIb9w26a4mS"
      }
    },
    {
      "cell_type": "markdown",
      "source": [
        "#### high_blood_pressure vs Numerical features :"
      ],
      "metadata": {
        "id": "MjOp1fOEa4mS"
      }
    },
    {
      "cell_type": "code",
      "source": [
        "fig,ax = plt.subplots(nrows = 2,ncols = 2,figsize = (15,10))\n",
        "for i in range(4):\n",
        "    plt.subplot(2,2,i+1)\n",
        "    sns.boxplot(x = 'high_blood_pressure',y = numerical_features[i],data = data,hue = 'DEATH_EVENT',palette = colors);\n",
        "    title = numerical_features[i] + ' vs high_blood_pressure'\n",
        "    plt.title(title);\n",
        "\n",
        "fig,ax = plt.subplots(nrows = 1,ncols = 3,figsize = (15,5))\n",
        "for i in range(-1,-4,-1):\n",
        "    plt.subplot(1,3,-i)\n",
        "    sns.boxplot(x = 'high_blood_pressure',y = numerical_features[i],data = data,hue = 'DEATH_EVENT',palette = colors);\n",
        "    title = numerical_features[i] + ' vs high_blood_pressure'\n",
        "    plt.title(title);"
      ],
      "metadata": {
        "execution": {
          "iopub.status.busy": "2022-10-15T10:05:37.272767Z",
          "iopub.execute_input": "2022-10-15T10:05:37.273156Z",
          "iopub.status.idle": "2022-10-15T10:05:39.191787Z",
          "shell.execute_reply.started": "2022-10-15T10:05:37.273103Z",
          "shell.execute_reply": "2022-10-15T10:05:39.190817Z"
        },
        "trusted": true,
        "id": "MIcHCdyXa4mS"
      },
      "execution_count": null,
      "outputs": []
    },
    {
      "cell_type": "markdown",
      "source": [
        "- Due to **high_blood_pressure**, **age** at which the **DEATH_EVENT** occurs for heart failure increases its range of values. The lower threshold of age limit drops just **below 55** and upper limit extends **over 70**.\n",
        "- Chances of confronting a **DEATH_EVENT** due to **high_blood_pressure** lowers the values of **time** feature's values and increases the chances of heart failure."
      ],
      "metadata": {
        "id": "ET-XuaHFa4mS"
      }
    },
    {
      "cell_type": "markdown",
      "source": [
        "#### sex vs Numerical Features :"
      ],
      "metadata": {
        "id": "6tUX4A1Ha4mT"
      }
    },
    {
      "cell_type": "code",
      "source": [
        "fig,ax = plt.subplots(nrows = 2,ncols = 2,figsize = (15,10))\n",
        "for i in range(4):\n",
        "    plt.subplot(2,2,i+1)\n",
        "    sns.boxplot(x = 'sex',y = numerical_features[i],data = data,hue = 'DEATH_EVENT',palette = colors);\n",
        "    title = numerical_features[i] + ' vs sex'\n",
        "    plt.title(title);\n",
        "\n",
        "fig,ax = plt.subplots(nrows = 1,ncols = 3,figsize = (15,5))\n",
        "for i in range(-1,-4,-1):\n",
        "    plt.subplot(1,3,-i)\n",
        "    sns.boxplot(x = 'sex',y = numerical_features[i],data = data,hue = 'DEATH_EVENT',palette = colors);\n",
        "    title = numerical_features[i] + ' vs sex'\n",
        "    plt.title(title);"
      ],
      "metadata": {
        "execution": {
          "iopub.status.busy": "2022-10-15T10:05:39.193213Z",
          "iopub.execute_input": "2022-10-15T10:05:39.193989Z",
          "iopub.status.idle": "2022-10-15T10:05:40.753324Z",
          "shell.execute_reply.started": "2022-10-15T10:05:39.193914Z",
          "shell.execute_reply": "2022-10-15T10:05:40.751909Z"
        },
        "trusted": true,
        "id": "flXVplEFa4mT"
      },
      "execution_count": null,
      "outputs": []
    },
    {
      "cell_type": "markdown",
      "source": [
        "- For female(0) population, **age** group **50 - 70** and male(1) population's **age** group **60 - 75** are more prone to heart failure leading to **DEATH_EVENT**.\n",
        "- **ejaction_fraction** values for female(0) population of **30 - 50** and **20 - 40** for male(1) population leads to cases of **DEATH_EVENT**.\n",
        "- **serum_sodium** values indicating **DEATH_EVENT** due to heart failure is different for male and female."
      ],
      "metadata": {
        "id": "Bhfjz0C1a4mU"
      }
    },
    {
      "cell_type": "markdown",
      "source": [
        "#### smoking vs Numerical Features :"
      ],
      "metadata": {
        "id": "XYZWMFvla4mV"
      }
    },
    {
      "cell_type": "code",
      "source": [
        "fig,ax = plt.subplots(nrows = 2,ncols = 2,figsize = (15,10))\n",
        "for i in range(4):\n",
        "    plt.subplot(2,2,i+1)\n",
        "    sns.boxplot(x = 'smoking',y = numerical_features[i],data = data,hue = 'DEATH_EVENT',palette = colors);\n",
        "    title = numerical_features[i] + ' vs smoking'\n",
        "    plt.title(title);\n",
        "\n",
        "fig,ax = plt.subplots(nrows = 1,ncols = 3,figsize = (15,5))\n",
        "for i in range(-1,-4,-1):\n",
        "    plt.subplot(1,3,-i)\n",
        "    sns.boxplot(x = 'smoking',y = numerical_features[i],data = data,hue = 'DEATH_EVENT',palette = colors);\n",
        "    title = numerical_features[i] + ' vs smoking'\n",
        "    plt.title(title);"
      ],
      "metadata": {
        "execution": {
          "iopub.status.busy": "2022-10-15T10:05:40.754637Z",
          "iopub.execute_input": "2022-10-15T10:05:40.756056Z",
          "iopub.status.idle": "2022-10-15T10:05:42.576538Z",
          "shell.execute_reply.started": "2022-10-15T10:05:40.756013Z",
          "shell.execute_reply": "2022-10-15T10:05:42.574775Z"
        },
        "trusted": true,
        "id": "Cxc88KH1a4mV"
      },
      "execution_count": null,
      "outputs": []
    },
    {
      "cell_type": "markdown",
      "source": [
        "- **age** group of **60 - 70** dominates the cases for **DEATH_EVENT** due to **smoking**. However, range of values ,**50 - 75** , increases for cases of **DEATH_EVENT** that do not **smoke**.\n",
        "- **Smoking** reduces the range of values for feature **time** to **0 - 75** that someone might face a **DEATH_EVENT**."
      ],
      "metadata": {
        "id": "OgvIKvXHa4mW"
      }
    },
    {
      "cell_type": "markdown",
      "source": [
        "### Numerical features vs Numerical features w.r.t Target variable(DEATH_EVENT) :"
      ],
      "metadata": {
        "id": "wDdNObKda4mW"
      }
    },
    {
      "cell_type": "code",
      "source": [
        "a = 0\n",
        "fig,ax = plt.subplots(nrows = 11,ncols = 2,figsize = (25,50),squeeze = False)\n",
        "for i in range(len(numerical_features) - 1):\n",
        "    for j in range(len(numerical_features)):\n",
        "        if i != j and j > i:\n",
        "            a += 1\n",
        "            plt.subplot(11,2,a)\n",
        "            sns.scatterplot(x = numerical_features[i],y = numerical_features[j],data = data,hue = 'DEATH_EVENT',palette = colors,edgecolor = 'black');\n",
        "            title = numerical_features[i] + ' vs ' + numerical_features[j]\n",
        "            plt.title(title)"
      ],
      "metadata": {
        "scrolled": true,
        "execution": {
          "iopub.status.busy": "2022-10-15T10:05:42.5787Z",
          "iopub.execute_input": "2022-10-15T10:05:42.579094Z",
          "iopub.status.idle": "2022-10-15T10:05:47.777941Z",
          "shell.execute_reply.started": "2022-10-15T10:05:42.57906Z",
          "shell.execute_reply": "2022-10-15T10:05:47.776705Z"
        },
        "trusted": true,
        "id": "OgADXNn2a4mW"
      },
      "execution_count": null,
      "outputs": []
    },
    {
      "cell_type": "markdown",
      "source": [
        "- For **time vs age** plot, **DEATH_EVENT** peaks can be found at **age** values of 50, 60, 70 and 80 for **time** value range between **50 - 100**.\n",
        "- **creatinine_phosphokinase** values between 0 - 500 are dominant in recording **DEATH_EVENT** irrespective of other features.\n",
        "- Similarly, **ejaction_fraction** values between **20 - 40** record high number of cases of **DEATH_EVENT**.\n",
        "- **platelets** range of values between **2x10^5 - 4x10^5** and **time** between **0 - 50** is a strong indicator for **DEATH_EVENT**.\n",
        "- Another indicator for **DEATH_EVENT** is **serum_creatinine** values from **0 - 2** with **time** values from **0 - 50**.\n",
        "- **serum_sodium** range of values from **130 - 140** record high number of cases for **DEATH_EVENT**."
      ],
      "metadata": {
        "id": "7iHqtMHHa4mX"
      }
    },
    {
      "cell_type": "markdown",
      "source": [
        "# <center><div style=\"font-family: Trebuchet MS; background-color: #FE251B; color: #FFFFFF; padding: 12px; line-height: 1;\">Summary EDA</div></center>\n",
        "\n",
        "### Order / Values of features for positive cases of heart failure (DEATH_EVENT) :\n",
        "\n",
        "- **Categorical Features (Order) :**\n",
        "    \n",
        "    - **anaemia** : Anaemia = No Anaemia\n",
        "    - **diabetes** : Diabetes = No Diabetes\n",
        "    - **high_blood_pressure** : High Blood Pressure > No High Blood Pressure (Needs more data)\n",
        "    - **sex** : Male > Female\n",
        "    - **smoking** : No Smoking > Smoking\n",
        "\n",
        "\n",
        "- **Numerical Features (Range) :**\n",
        "    \n",
        "    - **age** : 50 - 70\n",
        "    - **creatinine_phosphokinase** : 0 - 500\n",
        "    - **ejaction_fraction** : 20 - 40\n",
        "    - **platelets** : 200,000 - 300,000\n",
        "    - **serum_creatinine** : 1 - 2\n",
        "    - **serum_sodium** : 130 - 140\n",
        "    - **time** : 0 - 50\n",
        "\n",
        "\n",
        "- **According to the data, these order / range of values leads to heart failures.**"
      ],
      "metadata": {
        "id": "I-iqdY-Da4mX"
      }
    },
    {
      "cell_type": "markdown",
      "source": [
        "# <center><div style=\"font-family: Trebuchet MS; background-color: #FE251B; color: #FFFFFF; padding: 12px; line-height: 1;\">Domain Information</div></center>\n",
        "\n",
        "- **Categorical Features :**\n",
        "    \n",
        "    - **anaemia** : High chances of heart failures due to anaemia.\n",
        "    - **diabetes** : High chances of heart failures due to diabetes.\n",
        "    - **high blood pressure** : High chances with heart failures due to high blood pressure.\n",
        "    - **sex** : male > female but by small margin are prone to more heart failures.\n",
        "    - **smoking** : Smoking increases the chances of suffering from heart failures.\n",
        "\n",
        "\n",
        "- **Numerical Features :**\n",
        "    \n",
        "    - **age** : General aging leads to heart failures.\n",
        "    - **creatinine_phosphokinase** : > 120 mcg/L\n",
        "    - **ejection_fraction** : Normal Range 55% - 70%. Below 55% is prone to heart failures.\n",
        "    - **platelets** : Low and very high values of platelets led to heart failure.\n",
        "    - **serum_creatinine** : 0.8 - 1.7 (mg/dL) is the range of values that leads to most heart failures.\n",
        "    - **serum_sodium** : Above 130 (mEq/L), chances of heart failure increases by alot.\n",
        "    - **time** : Ideal follow-up period is of 14 days. Anything above 14 days can lead to worse situations.\n",
        "\n",
        "\n",
        "- All the information mentioned is gathered from websites and research papers. We will use this information for cross checking the summary of EDA and feature selection.\n",
        "\n",
        "\n",
        "- Conclusions obtained from the EDA contradict the Domain Information for the features : **anaemia**, **diabetes** and **smoking**.\n",
        "\n",
        "\n",
        "- This difference is probably because of **low dataset size of 299 data points**. **Unbalanced dataset** i.e **2 : 1** ratio of **No DEATH_EVENT** : **DEATH_EVENT** might also have some say in this!\n",
        "\n",
        "\n",
        "- Thus, we will carry out the feature engineering process, balance the dataset using **SMOTE analysis** and feed the balanced to the ML algorithms."
      ],
      "metadata": {
        "id": "LmkGL8-Ba4mX"
      }
    },
    {
      "cell_type": "markdown",
      "source": [
        "# <center><div style=\"font-family: Trebuchet MS; background-color: #FE251B; color: #FFFFFF; padding: 12px; line-height: 1;\">Feature Engineering</div></center>"
      ],
      "metadata": {
        "id": "M-qzQ3sea4mY"
      }
    },
    {
      "cell_type": "markdown",
      "source": [
        "### Data Scaling :"
      ],
      "metadata": {
        "id": "QrpMc1uma4mY"
      }
    },
    {
      "cell_type": "code",
      "source": [
        "from sklearn.preprocessing import MinMaxScaler,StandardScaler\n",
        "mms = MinMaxScaler() # Normalization\n",
        "ss = StandardScaler() # Standardization\n",
        "\n",
        "# Normalization\n",
        "df1['age'] = mms.fit_transform(df1[['age']])\n",
        "df1['creatinine_phosphokinase'] = mms.fit_transform(df1[['creatinine_phosphokinase']])\n",
        "df1['ejection_fraction'] = mms.fit_transform(df1[['ejection_fraction']])\n",
        "df1['serum_creatinine'] = mms.fit_transform(df1[['serum_creatinine']])\n",
        "df1['time'] = mms.fit_transform(df1[['time']])\n",
        "\n",
        "# Standardization\n",
        "df1['platelets'] = ss.fit_transform(df1[['platelets']])\n",
        "df1['serum_sodium'] = ss.fit_transform(df1[['serum_sodium']])\n",
        "df1.head()"
      ],
      "metadata": {
        "execution": {
          "iopub.status.busy": "2022-10-15T10:05:47.779603Z",
          "iopub.execute_input": "2022-10-15T10:05:47.780569Z",
          "iopub.status.idle": "2022-10-15T10:05:47.909945Z",
          "shell.execute_reply.started": "2022-10-15T10:05:47.780521Z",
          "shell.execute_reply": "2022-10-15T10:05:47.908484Z"
        },
        "trusted": true,
        "id": "eJUmpI9ba4mY"
      },
      "execution_count": null,
      "outputs": []
    },
    {
      "cell_type": "markdown",
      "source": [
        "- Machine learning model does not understand the units of the values of the features. It treats the input just as a simple number but does not understand the true meaning of that value. Thus, it becomes necessary to scale the data.\n",
        "\n",
        "- We have 2 options for data scaling :\n",
        "    \n",
        "    1) **Normalization**\n",
        "    \n",
        "    2) **Standardization**.\n",
        "\n",
        "\n",
        "- As most of the algorithms assume the data to be normally (Gaussian) distributed, **Normalization** is done for features whose data does not display normal distribution and **standardization** is carried out for features that are normally distributed but the range of values is huge or small as compared to other features."
      ],
      "metadata": {
        "id": "6XwVc2Ata4mY"
      }
    },
    {
      "cell_type": "markdown",
      "source": [
        "### Correlation Matrix :"
      ],
      "metadata": {
        "id": "ZAZMDvIga4mY"
      }
    },
    {
      "cell_type": "code",
      "source": [
        "plt.figure(figsize = (20,5))\n",
        "sns.heatmap(df1.corr(),cmap = colors,annot = True);"
      ],
      "metadata": {
        "execution": {
          "iopub.status.busy": "2022-10-15T10:05:47.911882Z",
          "iopub.execute_input": "2022-10-15T10:05:47.912421Z",
          "iopub.status.idle": "2022-10-15T10:05:48.985615Z",
          "shell.execute_reply.started": "2022-10-15T10:05:47.912375Z",
          "shell.execute_reply": "2022-10-15T10:05:48.984062Z"
        },
        "trusted": true,
        "id": "hiVad-kba4mZ"
      },
      "execution_count": null,
      "outputs": []
    },
    {
      "cell_type": "markdown",
      "source": [
        "- It is a huge matrix with too many features. We will check the correlation only with respect to **DEATH_EVENT**."
      ],
      "metadata": {
        "id": "O-yNG3NPa4mZ"
      }
    },
    {
      "cell_type": "code",
      "source": [
        "corr = df1.corrwith(df1['DEATH_EVENT']).sort_values(ascending = False).to_frame()\n",
        "corr.columns = ['DEATH_EVENT']\n",
        "plt.subplots(figsize = (5,5))\n",
        "sns.heatmap(corr,annot = True,cmap = colors,linewidths = 0.4,linecolor = 'black');\n",
        "plt.title('Correlation w.r.t DEATH_EVENT');"
      ],
      "metadata": {
        "execution": {
          "iopub.status.busy": "2022-10-15T10:05:48.991932Z",
          "iopub.execute_input": "2022-10-15T10:05:48.992359Z",
          "iopub.status.idle": "2022-10-15T10:05:49.355408Z",
          "shell.execute_reply.started": "2022-10-15T10:05:48.992322Z",
          "shell.execute_reply": "2022-10-15T10:05:49.354194Z"
        },
        "trusted": true,
        "id": "Kq8qGY11a4mZ"
      },
      "execution_count": null,
      "outputs": []
    },
    {
      "cell_type": "markdown",
      "source": [
        "- Features like **high_blood_pressure**, **anaemia**, **creatinine_phosphokinase**, **diabetes**, **sex**, **smoking**, and **platelets** do not display any kind of correlation with **DEATH_EVENT**."
      ],
      "metadata": {
        "id": "YcSQi8Gja4mZ"
      }
    },
    {
      "cell_type": "markdown",
      "source": [
        "### Feature Selection for Categorical Features :"
      ],
      "metadata": {
        "id": "Ht1iTePKa4ma"
      }
    },
    {
      "cell_type": "code",
      "source": [
        "from sklearn.feature_selection import SelectKBest\n",
        "from sklearn.feature_selection import mutual_info_classif,chi2"
      ],
      "metadata": {
        "execution": {
          "iopub.status.busy": "2022-10-15T10:05:49.357196Z",
          "iopub.execute_input": "2022-10-15T10:05:49.357927Z",
          "iopub.status.idle": "2022-10-15T10:05:49.606514Z",
          "shell.execute_reply.started": "2022-10-15T10:05:49.35788Z",
          "shell.execute_reply": "2022-10-15T10:05:49.605111Z"
        },
        "trusted": true,
        "id": "cwP0lpAoa4ma"
      },
      "execution_count": null,
      "outputs": []
    },
    {
      "cell_type": "markdown",
      "source": [
        "#### Mutual Information Test :"
      ],
      "metadata": {
        "id": "XQD6Lqzja4ma"
      }
    },
    {
      "cell_type": "code",
      "source": [
        "features = df1.loc[:,categorical_features[:-1]]\n",
        "target = df1.loc[:,categorical_features[-1]]\n",
        "\n",
        "best_features = SelectKBest(score_func = mutual_info_classif,k = 'all')\n",
        "fit = best_features.fit(features,target)\n",
        "\n",
        "featureScores = pd.DataFrame(data = fit.scores_,index = list(features.columns),columns = ['Mutual Information Score'])\n",
        "\n",
        "plt.subplots(figsize = (5,5))\n",
        "sns.heatmap(featureScores.sort_values(ascending = False,by = 'Mutual Information Score'),annot = True,cmap = colors,linewidths = 0.4,linecolor = 'black',fmt = '.2f');\n",
        "plt.title('Selection of Categorical Features');"
      ],
      "metadata": {
        "execution": {
          "iopub.status.busy": "2022-10-15T10:05:49.608197Z",
          "iopub.execute_input": "2022-10-15T10:05:49.608555Z",
          "iopub.status.idle": "2022-10-15T10:05:49.90533Z",
          "shell.execute_reply.started": "2022-10-15T10:05:49.608524Z",
          "shell.execute_reply": "2022-10-15T10:05:49.903902Z"
        },
        "trusted": true,
        "id": "ONYWwUHJa4ma"
      },
      "execution_count": null,
      "outputs": []
    },
    {
      "cell_type": "markdown",
      "source": [
        "#### Chi Squared Test :"
      ],
      "metadata": {
        "id": "znfvbuzKa4mb"
      }
    },
    {
      "cell_type": "code",
      "source": [
        "features = df1.loc[:,categorical_features[:-1]]\n",
        "target = df1.loc[:,categorical_features[-1]]\n",
        "\n",
        "best_features = SelectKBest(score_func = chi2,k = 'all')\n",
        "fit = best_features.fit(features,target)\n",
        "\n",
        "featureScores = pd.DataFrame(data = fit.scores_,index = list(features.columns),columns = ['Chi Squared Score'])\n",
        "\n",
        "plt.subplots(figsize = (5,5))\n",
        "sns.heatmap(featureScores.sort_values(ascending = False,by = 'Chi Squared Score'),annot = True,cmap = colors,linewidths = 0.4,linecolor = 'black',fmt = '.2f');\n",
        "plt.title('Selection of Categorical Features');"
      ],
      "metadata": {
        "execution": {
          "iopub.status.busy": "2022-10-15T10:05:49.90725Z",
          "iopub.execute_input": "2022-10-15T10:05:49.907615Z",
          "iopub.status.idle": "2022-10-15T10:05:50.186973Z",
          "shell.execute_reply.started": "2022-10-15T10:05:49.907584Z",
          "shell.execute_reply": "2022-10-15T10:05:50.185605Z"
        },
        "trusted": true,
        "id": "5Y2DTN2Ra4mb"
      },
      "execution_count": null,
      "outputs": []
    },
    {
      "cell_type": "markdown",
      "source": [
        "- According to the above tests, none of the features should be selected for modeling."
      ],
      "metadata": {
        "id": "k5W6ZcyFa4mb"
      }
    },
    {
      "cell_type": "markdown",
      "source": [
        "### Feature Selection for Numerical Features :"
      ],
      "metadata": {
        "id": "NZaFozKNa4mb"
      }
    },
    {
      "cell_type": "markdown",
      "source": [
        "#### ANOVA Test :"
      ],
      "metadata": {
        "id": "MdUgKSfqa4mb"
      }
    },
    {
      "cell_type": "code",
      "source": [
        "from sklearn.feature_selection import f_classif\n",
        "\n",
        "features = df1.loc[:,numerical_features]\n",
        "target = df1.loc[:,categorical_features[-1]]\n",
        "\n",
        "best_features = SelectKBest(score_func = f_classif,k = 'all')\n",
        "fit = best_features.fit(features,target)\n",
        "\n",
        "featureScores = pd.DataFrame(data = fit.scores_,index = list(features.columns),columns = ['ANOVA Score'])\n",
        "\n",
        "plt.subplots(figsize = (5,5))\n",
        "sns.heatmap(featureScores.sort_values(ascending = False,by = 'ANOVA Score'),annot = True,cmap = colors,linewidths = 0.4,linecolor = 'black',fmt = '.2f');\n",
        "plt.title('Selection of Numerical Features');"
      ],
      "metadata": {
        "execution": {
          "iopub.status.busy": "2022-10-15T10:05:50.188909Z",
          "iopub.execute_input": "2022-10-15T10:05:50.189411Z",
          "iopub.status.idle": "2022-10-15T10:05:50.483756Z",
          "shell.execute_reply.started": "2022-10-15T10:05:50.189364Z",
          "shell.execute_reply": "2022-10-15T10:05:50.482Z"
        },
        "trusted": true,
        "id": "c2v1g-gra4mc"
      },
      "execution_count": null,
      "outputs": []
    },
    {
      "cell_type": "markdown",
      "source": [
        "- According to the test, **platelets** and **creatinine_phosphokinase** need to be left out for modeling.\n",
        "\n",
        "\n",
        "- We will create 2 models : 1) Based on the statistical test 2) Based on the domain information.\n",
        "\n",
        "\n",
        "- According to the statistical tests, we will drop the following features : **anaemia, diabetes, high_blood_pressure, sex, smoking, creatinine_phosphokinase, platelets.**\n",
        "\n",
        "\n",
        "- According to the Domain Information, we will drop the following features : **sex, platelets.**"
      ],
      "metadata": {
        "id": "nCW2Ly5ia4mc"
      }
    },
    {
      "cell_type": "code",
      "source": [
        "df2 = df1.copy(deep = True)\n",
        "\n",
        "# Dataset for model based on Statistical Test :\n",
        "df1 = df1.drop(columns = ['anaemia', 'diabetes', 'high_blood_pressure', 'sex', 'smoking', 'creatinine_phosphokinase', 'platelets'])\n",
        "\n",
        "# Dataset for model based on Domain Information :\n",
        "df2 = df2.drop(columns = ['sex','platelets'])"
      ],
      "metadata": {
        "execution": {
          "iopub.status.busy": "2022-10-15T10:05:50.485675Z",
          "iopub.execute_input": "2022-10-15T10:05:50.486073Z",
          "iopub.status.idle": "2022-10-15T10:05:50.494998Z",
          "shell.execute_reply.started": "2022-10-15T10:05:50.48604Z",
          "shell.execute_reply": "2022-10-15T10:05:50.493563Z"
        },
        "trusted": true,
        "id": "noVLbq9Za4mc"
      },
      "execution_count": null,
      "outputs": []
    },
    {
      "cell_type": "markdown",
      "source": [
        "### Data Balancing using SMOTE :"
      ],
      "metadata": {
        "id": "Y-4ZnWmka4mc"
      }
    },
    {
      "cell_type": "code",
      "source": [
        "import imblearn\n",
        "from collections import Counter\n",
        "from imblearn.over_sampling import SMOTE"
      ],
      "metadata": {
        "execution": {
          "iopub.status.busy": "2022-10-15T10:05:50.496968Z",
          "iopub.execute_input": "2022-10-15T10:05:50.49739Z",
          "iopub.status.idle": "2022-10-15T10:05:50.759102Z",
          "shell.execute_reply.started": "2022-10-15T10:05:50.497337Z",
          "shell.execute_reply": "2022-10-15T10:05:50.757907Z"
        },
        "trusted": true,
        "id": "pzCRJ3Y1a4md"
      },
      "execution_count": null,
      "outputs": []
    },
    {
      "cell_type": "markdown",
      "source": [
        "#### Dataset for Model based on Statistical Test :"
      ],
      "metadata": {
        "id": "_q8XtqDma4md"
      }
    },
    {
      "cell_type": "code",
      "source": [
        "over = SMOTE()\n",
        "\n",
        "f1 = df1.iloc[:,:5].values\n",
        "t1 = df1.iloc[:,5].values\n",
        "f1, t1 = over.fit_resample(f1, t1)\n",
        "Counter(t1)"
      ],
      "metadata": {
        "execution": {
          "iopub.status.busy": "2022-10-15T10:05:50.761055Z",
          "iopub.execute_input": "2022-10-15T10:05:50.762436Z",
          "iopub.status.idle": "2022-10-15T10:05:50.775876Z",
          "shell.execute_reply.started": "2022-10-15T10:05:50.762394Z",
          "shell.execute_reply": "2022-10-15T10:05:50.774351Z"
        },
        "trusted": true,
        "id": "_pgrhpApa4md"
      },
      "execution_count": null,
      "outputs": []
    },
    {
      "cell_type": "markdown",
      "source": [
        "#### Dataset for Model based on Domain Information :"
      ],
      "metadata": {
        "id": "P5R0wJcza4me"
      }
    },
    {
      "cell_type": "code",
      "source": [
        "over = SMOTE()\n",
        "\n",
        "f2 = df2.iloc[:,:10].values\n",
        "t2 = df2.iloc[:,10].values\n",
        "f2, t2 = over.fit_resample(f2, t2)\n",
        "Counter(t2)"
      ],
      "metadata": {
        "execution": {
          "iopub.status.busy": "2022-10-15T10:05:50.777355Z",
          "iopub.execute_input": "2022-10-15T10:05:50.778559Z",
          "iopub.status.idle": "2022-10-15T10:05:50.794649Z",
          "shell.execute_reply.started": "2022-10-15T10:05:50.778509Z",
          "shell.execute_reply": "2022-10-15T10:05:50.793154Z"
        },
        "trusted": true,
        "id": "B8wtvgEia4me"
      },
      "execution_count": null,
      "outputs": []
    },
    {
      "cell_type": "markdown",
      "source": [
        "- Here, we balance the data by increasing the minorty group to majority group. In this case we only increase the minority data points as the data is very less.\n",
        "\n",
        "\n",
        "- Typically, combination of undersampling and oversampling are utilized.\n",
        "    - **Undersampling** : Trim down majority data values.\n",
        "    - **Oversampling** : Minority data values increased to the majority data values.\n",
        "\n",
        "\n",
        "- Due to the use of synthetic data, we cannot evaluate the models using accuracy. We have duplicated the data, thus using accuracy would be misleading to evaluate the model.\n",
        "\n",
        "\n",
        "- We will use the confusion matrix, ROC-AUC graph-score for model evaluation. ROC-AUC gives us the relation between True Positive and False Positive rate."
      ],
      "metadata": {
        "id": "SqFryw3da4me"
      }
    },
    {
      "cell_type": "markdown",
      "source": [
        "# <center><div style=\"font-family: Trebuchet MS; background-color: #FE251B; color: #FFFFFF; padding: 12px; line-height: 1;\">Modeling</div></center>"
      ],
      "metadata": {
        "id": "oh9NEWN8a4me"
      }
    },
    {
      "cell_type": "markdown",
      "source": [
        "- We create 2 versions of 3 machine learning algorithms based on the dataset."
      ],
      "metadata": {
        "id": "VD7-_tmXa4mf"
      }
    },
    {
      "cell_type": "code",
      "source": [
        "from sklearn.model_selection import train_test_split\n",
        "from sklearn.metrics import confusion_matrix\n",
        "from sklearn.metrics import roc_auc_score\n",
        "from sklearn.metrics import plot_roc_curve\n",
        "from sklearn.model_selection import cross_val_score\n",
        "from sklearn.model_selection import GridSearchCV\n",
        "from sklearn.metrics import classification_report\n",
        "from sklearn.metrics import accuracy_score\n",
        "from sklearn.model_selection import RepeatedStratifiedKFold\n",
        "from sklearn.metrics import precision_recall_curve"
      ],
      "metadata": {
        "execution": {
          "iopub.status.busy": "2022-10-15T10:05:50.796854Z",
          "iopub.execute_input": "2022-10-15T10:05:50.797287Z",
          "iopub.status.idle": "2022-10-15T10:05:50.804297Z",
          "shell.execute_reply.started": "2022-10-15T10:05:50.797251Z",
          "shell.execute_reply": "2022-10-15T10:05:50.802947Z"
        },
        "trusted": true,
        "id": "FEyHmLBva4mf"
      },
      "execution_count": null,
      "outputs": []
    },
    {
      "cell_type": "code",
      "source": [
        "x_train1, x_test1, y_train1, y_test1 = train_test_split(f1, t1, test_size = 0.15, random_state = 2)\n",
        "x_train2, x_test2, y_train2, y_test2 = train_test_split(f2, t2, test_size = 0.15, random_state = 2)"
      ],
      "metadata": {
        "execution": {
          "iopub.status.busy": "2022-10-15T10:05:50.806282Z",
          "iopub.execute_input": "2022-10-15T10:05:50.806723Z",
          "iopub.status.idle": "2022-10-15T10:05:50.81886Z",
          "shell.execute_reply.started": "2022-10-15T10:05:50.806689Z",
          "shell.execute_reply": "2022-10-15T10:05:50.817579Z"
        },
        "trusted": true,
        "id": "NThzu4F7a4mf"
      },
      "execution_count": null,
      "outputs": []
    },
    {
      "cell_type": "markdown",
      "source": [
        "- Selecting the features from the above conducted tests and splitting the data into **85 - 15 train - test** groups."
      ],
      "metadata": {
        "id": "HNijA_tra4mf"
      }
    },
    {
      "cell_type": "code",
      "source": [
        "def model(classifier,x_train,y_train,x_test,y_test):\n",
        "\n",
        "    classifier.fit(x_train,y_train)\n",
        "    prediction = classifier.predict(x_test)\n",
        "    cv = RepeatedStratifiedKFold(n_splits = 10,n_repeats = 3,random_state = 1)\n",
        "    print(\"Cross Validation Score : \",'{0:.2%}'.format(cross_val_score(classifier,x_train,y_train,cv = cv,scoring = 'roc_auc').mean()))\n",
        "    print(\"ROC_AUC Score : \",'{0:.2%}'.format(roc_auc_score(y_test,prediction)))\n",
        "    plot_roc_curve(classifier, x_test,y_test)\n",
        "    plt.title('ROC_AUC_Plot')\n",
        "    plt.show()\n",
        "\n",
        "def model_evaluation(classifier,x_test,y_test):\n",
        "\n",
        "    # Confusion Matrix\n",
        "    cm = confusion_matrix(y_test,classifier.predict(x_test))\n",
        "    names = ['True Neg','False Pos','False Neg','True Pos']\n",
        "    counts = [value for value in cm.flatten()]\n",
        "    percentages = ['{0:.2%}'.format(value) for value in cm.flatten()/np.sum(cm)]\n",
        "    labels = [f'{v1}\\n{v2}\\n{v3}' for v1, v2, v3 in zip(names,counts,percentages)]\n",
        "    labels = np.asarray(labels).reshape(2,2)\n",
        "    sns.heatmap(cm,annot = labels,cmap = 'Blues',fmt ='')\n",
        "\n",
        "    # Classification Report\n",
        "    print(classification_report(y_test,classifier.predict(x_test)))"
      ],
      "metadata": {
        "execution": {
          "iopub.status.busy": "2022-10-15T10:05:50.820391Z",
          "iopub.execute_input": "2022-10-15T10:05:50.821497Z",
          "iopub.status.idle": "2022-10-15T10:05:50.834199Z",
          "shell.execute_reply.started": "2022-10-15T10:05:50.821457Z",
          "shell.execute_reply": "2022-10-15T10:05:50.832765Z"
        },
        "trusted": true,
        "id": "snZ0VAs2a4mf"
      },
      "execution_count": null,
      "outputs": []
    },
    {
      "cell_type": "markdown",
      "source": [
        "### 1] XGBoostClassifier :"
      ],
      "metadata": {
        "id": "28YFrNxua4mg"
      }
    },
    {
      "cell_type": "code",
      "source": [
        "from xgboost import XGBClassifier"
      ],
      "metadata": {
        "execution": {
          "iopub.status.busy": "2022-10-15T10:05:50.835643Z",
          "iopub.execute_input": "2022-10-15T10:05:50.836065Z",
          "iopub.status.idle": "2022-10-15T10:05:51.000414Z",
          "shell.execute_reply.started": "2022-10-15T10:05:50.83603Z",
          "shell.execute_reply": "2022-10-15T10:05:50.999103Z"
        },
        "trusted": true,
        "id": "fcjYRrK7a4mg"
      },
      "execution_count": null,
      "outputs": []
    },
    {
      "cell_type": "code",
      "source": [
        "classifier_xgb = XGBClassifier(learning_rate= 0.01,max_depth = 3,n_estimators = 1000)"
      ],
      "metadata": {
        "execution": {
          "iopub.status.busy": "2022-10-15T10:05:51.001914Z",
          "iopub.execute_input": "2022-10-15T10:05:51.002362Z",
          "iopub.status.idle": "2022-10-15T10:05:51.008239Z",
          "shell.execute_reply.started": "2022-10-15T10:05:51.002309Z",
          "shell.execute_reply": "2022-10-15T10:05:51.006605Z"
        },
        "trusted": true,
        "id": "MNYERGt1a4mg"
      },
      "execution_count": null,
      "outputs": []
    },
    {
      "cell_type": "markdown",
      "source": [
        "#### Model based on Statistical Test :"
      ],
      "metadata": {
        "id": "OmLPml6Aa4mg"
      }
    },
    {
      "cell_type": "code",
      "source": [
        "model(classifier_xgb,x_train1,y_train1,x_test1,y_test1)\n",
        "model_evaluation(classifier_xgb,x_test1,y_test1)"
      ],
      "metadata": {
        "execution": {
          "iopub.status.busy": "2022-10-15T10:05:51.009584Z",
          "iopub.execute_input": "2022-10-15T10:05:51.010006Z",
          "iopub.status.idle": "2022-10-15T10:07:52.783319Z",
          "shell.execute_reply.started": "2022-10-15T10:05:51.009962Z",
          "shell.execute_reply": "2022-10-15T10:07:52.781593Z"
        },
        "trusted": true,
        "id": "IvYBHw6Ia4mh"
      },
      "execution_count": null,
      "outputs": []
    },
    {
      "cell_type": "markdown",
      "source": [
        "#### Model based on Domain Information :"
      ],
      "metadata": {
        "id": "Eg7gbzkga4mh"
      }
    },
    {
      "cell_type": "code",
      "source": [
        "model(classifier_xgb,x_train2,y_train2,x_test2,y_test2)\n",
        "model_evaluation(classifier_xgb,x_test2,y_test2)"
      ],
      "metadata": {
        "execution": {
          "iopub.status.busy": "2022-10-15T10:07:52.784975Z",
          "iopub.execute_input": "2022-10-15T10:07:52.785645Z",
          "iopub.status.idle": "2022-10-15T10:10:03.111485Z",
          "shell.execute_reply.started": "2022-10-15T10:07:52.785608Z",
          "shell.execute_reply": "2022-10-15T10:10:03.110185Z"
        },
        "trusted": true,
        "id": "akCXJVfAa4mh"
      },
      "execution_count": null,
      "outputs": []
    },
    {
      "cell_type": "markdown",
      "source": [
        "### 2] LogisticRegression :"
      ],
      "metadata": {
        "id": "TbNMU7Vba4mh"
      }
    },
    {
      "cell_type": "code",
      "source": [
        "from sklearn.linear_model import LogisticRegression"
      ],
      "metadata": {
        "execution": {
          "iopub.status.busy": "2022-10-15T10:10:03.114421Z",
          "iopub.execute_input": "2022-10-15T10:10:03.115048Z",
          "iopub.status.idle": "2022-10-15T10:10:03.119773Z",
          "shell.execute_reply.started": "2022-10-15T10:10:03.115012Z",
          "shell.execute_reply": "2022-10-15T10:10:03.118603Z"
        },
        "trusted": true,
        "id": "Smy-Ht2ka4mh"
      },
      "execution_count": null,
      "outputs": []
    },
    {
      "cell_type": "code",
      "source": [
        "classifier_lr = LogisticRegression(random_state = 0,C=10,penalty= 'l2')"
      ],
      "metadata": {
        "execution": {
          "iopub.status.busy": "2022-10-15T10:10:03.121371Z",
          "iopub.execute_input": "2022-10-15T10:10:03.122338Z",
          "iopub.status.idle": "2022-10-15T10:10:03.131826Z",
          "shell.execute_reply.started": "2022-10-15T10:10:03.122293Z",
          "shell.execute_reply": "2022-10-15T10:10:03.130951Z"
        },
        "trusted": true,
        "id": "h98UE-aJa4mi"
      },
      "execution_count": null,
      "outputs": []
    },
    {
      "cell_type": "markdown",
      "source": [
        "#### Model based on Statistical Test :"
      ],
      "metadata": {
        "id": "valJuzJia4mi"
      }
    },
    {
      "cell_type": "code",
      "source": [
        "model(classifier_lr,x_train1,y_train1,x_test1,y_test1)\n",
        "model_evaluation(classifier_lr,x_test1,y_test1)"
      ],
      "metadata": {
        "execution": {
          "iopub.status.busy": "2022-10-15T10:10:03.133343Z",
          "iopub.execute_input": "2022-10-15T10:10:03.13466Z",
          "iopub.status.idle": "2022-10-15T10:10:03.76708Z",
          "shell.execute_reply.started": "2022-10-15T10:10:03.13461Z",
          "shell.execute_reply": "2022-10-15T10:10:03.766255Z"
        },
        "trusted": true,
        "id": "7swqsxz2a4mi"
      },
      "execution_count": null,
      "outputs": []
    },
    {
      "cell_type": "markdown",
      "source": [
        "#### Model based on Domain Information :"
      ],
      "metadata": {
        "id": "-NM7vy5Ha4mi"
      }
    },
    {
      "cell_type": "code",
      "source": [
        "model(classifier_lr,x_train2,y_train2,x_test2,y_test2)\n",
        "model_evaluation(classifier_lr,x_test2,y_test2)"
      ],
      "metadata": {
        "execution": {
          "iopub.status.busy": "2022-10-15T10:10:03.76815Z",
          "iopub.execute_input": "2022-10-15T10:10:03.76869Z",
          "iopub.status.idle": "2022-10-15T10:10:04.79437Z",
          "shell.execute_reply.started": "2022-10-15T10:10:03.768659Z",
          "shell.execute_reply": "2022-10-15T10:10:04.793085Z"
        },
        "trusted": true,
        "id": "ABXB0VZNa4mi"
      },
      "execution_count": null,
      "outputs": []
    },
    {
      "cell_type": "markdown",
      "source": [
        "### 3] Support Vector Classifier :"
      ],
      "metadata": {
        "id": "gMqprl0ca4mj"
      }
    },
    {
      "cell_type": "code",
      "source": [
        "from sklearn.svm import SVC"
      ],
      "metadata": {
        "execution": {
          "iopub.status.busy": "2022-10-15T10:10:04.795773Z",
          "iopub.execute_input": "2022-10-15T10:10:04.796922Z",
          "iopub.status.idle": "2022-10-15T10:10:04.801677Z",
          "shell.execute_reply.started": "2022-10-15T10:10:04.796882Z",
          "shell.execute_reply": "2022-10-15T10:10:04.800582Z"
        },
        "trusted": true,
        "id": "k0S5yZSxa4mj"
      },
      "execution_count": null,
      "outputs": []
    },
    {
      "cell_type": "code",
      "source": [
        "classifier_svc = SVC(kernel = 'linear',C = 0.1)"
      ],
      "metadata": {
        "execution": {
          "iopub.status.busy": "2022-10-15T10:10:04.802882Z",
          "iopub.execute_input": "2022-10-15T10:10:04.803276Z",
          "iopub.status.idle": "2022-10-15T10:10:04.815419Z",
          "shell.execute_reply.started": "2022-10-15T10:10:04.803243Z",
          "shell.execute_reply": "2022-10-15T10:10:04.814337Z"
        },
        "trusted": true,
        "id": "Ciqg6MB3a4mj"
      },
      "execution_count": null,
      "outputs": []
    },
    {
      "cell_type": "markdown",
      "source": [
        "#### Model based on Statistical Test :"
      ],
      "metadata": {
        "id": "DwyURXk3a4mk"
      }
    },
    {
      "cell_type": "code",
      "source": [
        "model(classifier_svc,x_train1,y_train1,x_test1,y_test1)\n",
        "model_evaluation(classifier_svc,x_test1,y_test1)"
      ],
      "metadata": {
        "execution": {
          "iopub.status.busy": "2022-10-15T10:10:04.817152Z",
          "iopub.execute_input": "2022-10-15T10:10:04.818283Z",
          "iopub.status.idle": "2022-10-15T10:10:05.444904Z",
          "shell.execute_reply.started": "2022-10-15T10:10:04.818244Z",
          "shell.execute_reply": "2022-10-15T10:10:05.443777Z"
        },
        "trusted": true,
        "id": "JXIqDprca4ml"
      },
      "execution_count": null,
      "outputs": []
    },
    {
      "cell_type": "markdown",
      "source": [
        "#### Model based on Domain Information :"
      ],
      "metadata": {
        "id": "koSxGFeFa4ml"
      }
    },
    {
      "cell_type": "code",
      "source": [
        "model(classifier_svc,x_train2,y_train2,x_test2,y_test2)\n",
        "model_evaluation(classifier_svc,x_test2,y_test2)"
      ],
      "metadata": {
        "execution": {
          "iopub.status.busy": "2022-10-15T10:10:05.446168Z",
          "iopub.execute_input": "2022-10-15T10:10:05.446493Z",
          "iopub.status.idle": "2022-10-15T10:10:06.087771Z",
          "shell.execute_reply.started": "2022-10-15T10:10:05.446464Z",
          "shell.execute_reply": "2022-10-15T10:10:06.086443Z"
        },
        "trusted": true,
        "id": "URkd_1nda4ml"
      },
      "execution_count": null,
      "outputs": []
    },
    {
      "cell_type": "markdown",
      "source": [
        "### ML Alogrithm Results Table :\n",
        "\n",
        "#### Results Table for models based on Statistical Test :\n",
        "\n",
        "|Sr. No.|ML Algorithm|Cross Validation Score|ROC AUC Score|\n",
        "|-|-|-|-|\n",
        "|1|XGB Classifier|92.51%|86.33%|\n",
        "|2|Logistic Regression|88.87%|83.39%|\n",
        "|3|Support Vector Classifier|86.27%|79.68%|\n",
        "\n",
        "\n",
        "#### Results Table for models based on Domain Information :\n",
        "\n",
        "\n",
        "|Sr. No.|ML Algorithm|Cross Validation Score|ROC AUC Score|\n",
        "|-|-|-|-|\n",
        "|1|XGB Classifier|93.78%|83.39%|\n",
        "|2|Logistic Regression|89.97%|82.30%|\n",
        "|3|Support Vector Classifier|86.07%|75.65%|"
      ],
      "metadata": {
        "id": "NqIDdGZXa4ml"
      }
    },
    {
      "cell_type": "markdown",
      "source": [
        "# <center><div style=\"font-family: Trebuchet MS; background-color: #FE251B; color: #FFFFFF; padding: 12px; line-height: 1;\">Conclusion</div></center>\n",
        "\n",
        "- This is another good dataset for understanding how to handle binary classification problems however, size of the data is very low.\n",
        "\n",
        "\n",
        "- As the size of the dataset is very small, we use SMOTE analysis to balance data by leveling the minority and majority data points of the target variable. Due to the use of synthetic data, evaluating the models based on accuracy is quite misleading.\n",
        "\n",
        "\n",
        "- In this case, 2 models are trained :\n",
        "    \n",
        "    1) Statistical Model\n",
        "    \n",
        "    2) Domain Information Model\n",
        "\n",
        "    The 2 models are very close to each other in terms of evaluation metrics.\n",
        "    \n",
        "\n",
        "- Outlier detection was not executed due to the low size of the dataset."
      ],
      "metadata": {
        "id": "HTVdWkQ8a4mm"
      }
    },
    {
      "cell_type": "markdown",
      "source": [
        "### References :\n",
        "- https://www.mayoclinic.org/diseases-conditions/heart-failure/symptoms-causes/syc-20373142#:~:text=Heart%20failure%20occurs%20when%20the,to%20appear%20blue%20(cyanotic).\n",
        "- https://www.healthline.com/health/heart-failure\n",
        "- https://emedicine.medscape.com/article/163062-overview\n",
        "- [Image Source](https://cdn.dribbble.com/users/4506667/screenshots/14492641/heart_disease_prediction_logo2_.png)"
      ],
      "metadata": {
        "id": "tMyQx7swa4mm"
      }
    },
    {
      "cell_type": "markdown",
      "source": [
        "# <center><div style=\"font-family: Trebuchet MS; background-color: #FE251B; color: #FFFFFF; padding: 12px; line-height: 1;\">Please upvote if you like the work!</div><div style=\"font-family: Trebuchet MS; background-color: #FE251B; color: #FFFFFF; padding: 12px; line-height: 1;\">Any sort of feedback would be great!</div><div style=\"font-family: Trebuchet MS; background-color: #FE251B; color: #FFFFFF; padding: 12px; line-height: 1;\">Thank You!</div></center>"
      ],
      "metadata": {
        "id": "WViibWola4mm"
      }
    }
  ]
}